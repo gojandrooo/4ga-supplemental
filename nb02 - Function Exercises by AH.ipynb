{
 "cells": [
  {
   "cell_type": "markdown",
   "metadata": {},
   "source": [
    "# Overview\n",
    "This notebook contains challenges that require fundamental understanding of python. Before getting started with the challenges, here is a quick primer on defining functions."
   ]
  },
  {
   "cell_type": "markdown",
   "metadata": {},
   "source": [
    "## Functions in Python\n",
    "\n",
    "One of the great things about python is the ability to make custom functions to handle specific tasks without repeating lines of code every time you need to complete that same task. Say, for example, you have a use-case where you always need to take a number as an input and add some other number to it. We can do so by creating a really basic function. we'll do this in a bit, but first an even more basic example. *note that this example is overly simplistic and is meant to demonstrate syntax*\n",
    "\n",
    "```python\n",
    "def function_name(input_1):\n",
    "    print(input_1)\n",
    "```\n",
    "\n",
    "- first you write `def` to indicate you are creating a function\n",
    "- then you write the function name followed by parantheses\n",
    "    - `function_name` in the above example\n",
    "- inside the parenthes, write placeholders for the inputs of your function \n",
    "    - `input_1` in the above example\n",
    "- outside of the parenthese write a colon and hit `enter`. this will bring you to a new indented line\n",
    "- write what you want your function to do with the inputs.\n",
    "    - in this case, we are telling our function to simply `print(input_1)`\n",
    "    \n",
    "    \n",
    "Run the three code cells below to see a function defined and then used"
   ]
  },
  {
   "cell_type": "markdown",
   "metadata": {},
   "source": [
    "**First, define a function**"
   ]
  },
  {
   "cell_type": "code",
   "execution_count": null,
   "metadata": {},
   "outputs": [],
   "source": [
    "def print_something(thing_to_print):\n",
    "    # you can write comments within a function for your own reference - they won't effect what the function does\n",
    "    print(thing_to_print)"
   ]
  },
  {
   "cell_type": "markdown",
   "metadata": {},
   "source": [
    "**Now, let's put our function to work**"
   ]
  },
  {
   "cell_type": "code",
   "execution_count": null,
   "metadata": {},
   "outputs": [],
   "source": [
    "# assign a number to a variable `x`\n",
    "x = 4\n",
    "\n",
    "# now use the function with variable `x`\n",
    "print_something(x)"
   ]
  },
  {
   "cell_type": "markdown",
   "metadata": {},
   "source": [
    "**You can combine functions with for-loops and other python mechanisms**"
   ]
  },
  {
   "cell_type": "code",
   "execution_count": null,
   "metadata": {},
   "outputs": [],
   "source": [
    "# create a list\n",
    "some_list = ['a', 'b', 'c']\n",
    "\n",
    "# loop over the list using our new function!\n",
    "for val in some_list:\n",
    "    print_something(val)"
   ]
  },
  {
   "cell_type": "markdown",
   "metadata": {},
   "source": [
    "### Returning Globals vs Locals\n",
    "The above functions simply printed something. However, we will often want our functions to use variable assignment. This gets in to a concept called `global` vs `local` variables which we won't cover in depth. However, it is very important to understand the distinction:\n",
    "- **locals**: this is a variable that exists *within* a function\n",
    "- **globals**: this is a variable that exists at the top level of your coding space\n",
    "\n",
    "So if you have a function that takes an *argument* called `my_list`, it is different than saving a list called `my_list`\n",
    "\n",
    "If you want your function to assign a value to a variable called `my_list`, you need to use the `return` argument.\n",
    "\n",
    "Run the three code cells below to see this in action."
   ]
  },
  {
   "cell_type": "code",
   "execution_count": null,
   "metadata": {},
   "outputs": [],
   "source": [
    "# this is my input variable\n",
    "x = 1\n",
    "\n",
    "print('x before re-assignment:', x)"
   ]
  },
  {
   "cell_type": "code",
   "execution_count": null,
   "metadata": {},
   "outputs": [],
   "source": [
    "# now create a function where I can add to my input variable\n",
    "def add_to(input_number, add_amount):\n",
    "    output_number = input_number + add_amount\n",
    "    # `input_number` is a local\n",
    "    # here is where you `return` the desired output\n",
    "    return output_number"
   ]
  },
  {
   "cell_type": "markdown",
   "metadata": {},
   "source": [
    "**To reassign a variable, you have to `return` a function output, and call the function with a reassign**"
   ]
  },
  {
   "cell_type": "code",
   "execution_count": null,
   "metadata": {},
   "outputs": [],
   "source": [
    "# here is where you use re-assignment, to make your function change prior value in the `global` space\n",
    "x = add_to(x, 4)\n",
    "\n",
    "print('x after re-assignment:', x)"
   ]
  },
  {
   "cell_type": "markdown",
   "metadata": {},
   "source": [
    "## Exercises\n",
    "\n",
    "Now that you have a basic understanding of functions, time to create your own. These will be more difficult than the examples above, but the syntax should be the same. There are typically more ways than one to solve each challenge."
   ]
  },
  {
   "cell_type": "markdown",
   "metadata": {},
   "source": [
    "### 1) Define a function that returns the average value of a list of integers"
   ]
  },
  {
   "cell_type": "code",
   "execution_count": null,
   "metadata": {},
   "outputs": [],
   "source": [
    "# start with a small list to keep troubleshooting simple\n",
    "small_list = [2, 4]\n",
    "\n",
    "# we know the average of `small_list` is `3` so that's eventually what we want to see\n",
    "(2 + 4) / 2"
   ]
  },
  {
   "cell_type": "code",
   "execution_count": null,
   "metadata": {},
   "outputs": [],
   "source": [
    "# define your function here\n",
    "\n"
   ]
  },
  {
   "cell_type": "code",
   "execution_count": null,
   "metadata": {},
   "outputs": [],
   "source": [
    "# use your function on `small_list` to return the average\n",
    "\n"
   ]
  },
  {
   "cell_type": "code",
   "execution_count": null,
   "metadata": {},
   "outputs": [],
   "source": [
    "# now create your own list (more than two numbers) and use your function on it to return the average\n",
    "\n"
   ]
  },
  {
   "cell_type": "markdown",
   "metadata": {},
   "source": [
    "### 2) Define a function that takes a string as an input and prints out the reverse"
   ]
  },
  {
   "cell_type": "code",
   "execution_count": null,
   "metadata": {},
   "outputs": [],
   "source": [
    "# we want this string to be reversed\n",
    "forward_string = \"stressed evah I yam\""
   ]
  },
  {
   "cell_type": "code",
   "execution_count": null,
   "metadata": {},
   "outputs": [],
   "source": [
    "# define your function\n",
    "\n"
   ]
  },
  {
   "cell_type": "code",
   "execution_count": null,
   "metadata": {},
   "outputs": [],
   "source": [
    "# use your function on `forward string`\n",
    "\n"
   ]
  },
  {
   "cell_type": "markdown",
   "metadata": {},
   "source": [
    "### 3) Define a function that takes two lists and outputs a dictionary"
   ]
  },
  {
   "cell_type": "code",
   "execution_count": null,
   "metadata": {},
   "outputs": [],
   "source": [
    "# here are the two lists\n",
    "names = ['Alex', 'Kim', 'Harold']\n",
    "\n",
    "ages = [20, 50, 17]"
   ]
  },
  {
   "cell_type": "code",
   "execution_count": null,
   "metadata": {},
   "outputs": [],
   "source": [
    "# this is what we what our function to produce\n",
    "eventual_dictionary = {'Alex': 20,\n",
    "                       'Kim': 50,\n",
    "                       'Harold': 17\n",
    "                      }\n",
    "eventual_dictionary"
   ]
  },
  {
   "cell_type": "code",
   "execution_count": null,
   "metadata": {},
   "outputs": [],
   "source": [
    "# define your function\n",
    "\n"
   ]
  },
  {
   "cell_type": "code",
   "execution_count": null,
   "metadata": {},
   "outputs": [],
   "source": [
    "# use your function on the `names` and `ages` lists to create a dictionary\n",
    "\n"
   ]
  },
  {
   "cell_type": "markdown",
   "metadata": {},
   "source": [
    "### 4) Define a function that outputs the 'n_th' [fibonnaci number](https://en.wikipedia.org/wiki/Fibonacci_number) in the sequence\n",
    "\n",
    "- The fibonnaci sequence starts like this: `1,1,2,3,5,8,13`\n",
    "- the 'fourth' fibonnaci number is `3`"
   ]
  },
  {
   "cell_type": "code",
   "execution_count": null,
   "metadata": {},
   "outputs": [],
   "source": [
    "def fibonacci_recursive(n):\n",
    "    # Base case\n",
    "    if n == 0:\n",
    "        return 0\n",
    "    elif n == 1:\n",
    "        return 1\n",
    "\n",
    "    # Recursive case\n",
    "    else:\n",
    "        return fibonacci_recursive(n-1) + fibonacci_recursive(n-2)\n",
    "    \n",
    "fibonacci_recursive(4)"
   ]
  },
  {
   "cell_type": "code",
   "execution_count": null,
   "metadata": {},
   "outputs": [],
   "source": [
    "# define your function\n",
    "\n"
   ]
  },
  {
   "cell_type": "code",
   "execution_count": null,
   "metadata": {},
   "outputs": [],
   "source": [
    "# use your function to find the `seventh` fibonacci number (aka the number 13)\n",
    "\n"
   ]
  },
  {
   "cell_type": "code",
   "execution_count": null,
   "metadata": {},
   "outputs": [],
   "source": [
    "# use your function to find the `tenth` fibonacci number\n",
    "\n"
   ]
  },
  {
   "cell_type": "markdown",
   "metadata": {},
   "source": [
    "[here is the 10th](https://www.quora.com/What-is-the-10th-number-in-the-Fibonacci-sequence) but don't cheat!"
   ]
  },
  {
   "cell_type": "markdown",
   "metadata": {},
   "source": [
    "### 5) Define a function that finds the minimum or maximum value in the_dictionary and returns the key value pair\n",
    "- min/max should be one of the function inputs"
   ]
  },
  {
   "cell_type": "code",
   "execution_count": null,
   "metadata": {},
   "outputs": [],
   "source": [
    "# here is the dictionary\n",
    "sneakers = {'Addidas': 1,\n",
    "            'Nike': 2,\n",
    "            'New Balance': 3,\n",
    "            'Puma': 4,\n",
    "            'Under Armour': 5\n",
    "}"
   ]
  },
  {
   "cell_type": "code",
   "execution_count": null,
   "metadata": {},
   "outputs": [],
   "source": [
    "# define your function here\n",
    "\n"
   ]
  },
  {
   "cell_type": "code",
   "execution_count": null,
   "metadata": {},
   "outputs": [],
   "source": [
    "# now use your function on `sneakers` to get the maximum\n",
    "# this should be Under Armour since 5 is the largest value in the dictionary\n",
    "\n"
   ]
  },
  {
   "cell_type": "code",
   "execution_count": null,
   "metadata": {},
   "outputs": [],
   "source": [
    "# now use your function on `sneakers` to get the minimum\n",
    "# this should be Addidas since 1 is the smallest value in the dictionary\n",
    "\n"
   ]
  },
  {
   "cell_type": "markdown",
   "metadata": {},
   "source": [
    "### 6) Write a function expand which takes a word and repeats each character one more time than the previous character.\n",
    "\n",
    "For example \"BANG!\" becomes \"BAANNNGGGG!!!!!\""
   ]
  },
  {
   "cell_type": "code",
   "execution_count": null,
   "metadata": {},
   "outputs": [],
   "source": []
  },
  {
   "cell_type": "code",
   "execution_count": null,
   "metadata": {},
   "outputs": [],
   "source": []
  },
  {
   "cell_type": "code",
   "execution_count": null,
   "metadata": {},
   "outputs": [],
   "source": []
  }
 ],
 "metadata": {
  "kernelspec": {
   "display_name": "Python 3",
   "language": "python",
   "name": "python3"
  },
  "language_info": {
   "codemirror_mode": {
    "name": "ipython",
    "version": 3
   },
   "file_extension": ".py",
   "mimetype": "text/x-python",
   "name": "python",
   "nbconvert_exporter": "python",
   "pygments_lexer": "ipython3",
   "version": "3.8.8"
  }
 },
 "nbformat": 4,
 "nbformat_minor": 2
}
