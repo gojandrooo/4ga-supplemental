{
 "cells": [
  {
   "cell_type": "markdown",
   "metadata": {},
   "source": [
    "# Hypothesis Testing\n",
    "\n",
    "- Comparison of Means\n",
    "- Tests of Proportion\n",
    "- Chi-Square Tests of Independence\n",
    "- ANOVA (Analysis of Variance)"
   ]
  },
  {
   "cell_type": "markdown",
   "metadata": {},
   "source": [
    "## Comparison of Means\n",
    "\n",
    "**Theory:**\n",
    "The two-sample t-test is used to determine if there is a significant difference between the means of two independent groups. It assumes that the data is normally distributed and that the variances of the two groups are equal.\n",
    "\n",
    "- **Null Hypothesis (H0)**: \n",
    "    - The means of the two groups are equal.\n",
    "- **Alternative Hypothesis (H1)**: \n",
    "    - The means of the two groups are not equal.\n",
    "\n",
    "\n",
    "- **T-statistic**: \n",
    "    - Measures the size of the difference relative to the variation in the sample data.\n",
    "- **P-value**: \n",
    "    - The probability of observing the data, or something more extreme, if the null hypothesis is true. \n",
    "    - A small p-value (typically ≤ 0.05) indicates strong evidence against the null hypothesis\n",
    "\n",
    "---\n"
   ]
  },
  {
   "cell_type": "markdown",
   "metadata": {},
   "source": [
    "\n",
    "### Exercise \n",
    "\n",
    "**Scenario:**\n",
    "A company wants to know if there is a significant difference in the average salaries of employees in two different departments: *Sales* and *Marketing*.\n",
    "\n",
    "**Task:**\n",
    "Perform a two-sample t-test to determine if there is a significant difference in the average salaries between the two departments.\n",
    "\n",
    "\n",
    "<!--\n",
    "```python\n",
    "import scipy.stats as stats\n",
    "\n",
    "# Perform two-sample t-test\n",
    "t_stat, p_value = stats.ttest_ind(sales_dept, mktg_dept)\n",
    "\n",
    "print(f\"T-statistic: {t_stat}, P-value: {p_value}\")\n",
    "```\n",
    "-->"
   ]
  },
  {
   "cell_type": "code",
   "execution_count": 1,
   "metadata": {},
   "outputs": [],
   "source": [
    "from scipy.stats import ttest_ind"
   ]
  },
  {
   "cell_type": "code",
   "execution_count": 2,
   "metadata": {},
   "outputs": [],
   "source": [
    "sales_dept = [55,000, 60,000, 58,000, 62,000, 59,000]\n",
    "mktg_dept = [52,000, 54,000, 53,000, 55,000, 56,000]"
   ]
  },
  {
   "cell_type": "code",
   "execution_count": null,
   "metadata": {},
   "outputs": [],
   "source": []
  },
  {
   "cell_type": "code",
   "execution_count": null,
   "metadata": {},
   "outputs": [],
   "source": []
  },
  {
   "cell_type": "markdown",
   "metadata": {},
   "source": [
    "## Tests of Proportion\n",
    "\n",
    "**Theory:**\n",
    "The z-test for proportions is used to determine if there is a significant difference between the proportions of two independent groups. It is commonly used in surveys and experiments.\n",
    "\n",
    "- **Null Hypothesis (H0)**: \n",
    "    - The proportions of the two groups are equal.\n",
    "- **Alternative Hypothesis (H1)**: \n",
    "    - The proportions of the two groups are not equal.\n",
    "\n",
    "\n",
    "- **Z-statistic**: \n",
    "    - Measures the difference between the observed proportions relative to the standard error of the difference\n",
    "- **P-value**: \n",
    "    - The probability of observing the data, or something more extreme, if the null hypothesis is true. \n",
    "    - A small p-value (typically ≤ 0.05) indicates strong evidence against the null hypothesis\n",
    "\n",
    "---\n"
   ]
  },
  {
   "cell_type": "markdown",
   "metadata": {},
   "source": [
    "\n",
    "### Exercise\n",
    "\n",
    "**Scenario:**\n",
    "A survey was conducted to determine if there is a significant difference in the proportion of people who prefer product A over product B in two different cities.\n",
    "\n",
    "**Task:**\n",
    "Perform a z-test for proportions to determine if there is a significant difference in the proportion of people who prefer product A between the two cities.\n",
    "\n",
    "\n",
    "**Data:**\n",
    "- City 1: 120 out of 200 people prefer product A.\n",
    "- City 2: 150 out of 250 people prefer product A.\n",
    "\n",
    "\n",
    "<!--\n",
    "```python\n",
    "import statsmodels.api as sm\n",
    "from statsmodels.stats.proportion import proportions_ztest\n",
    "\n",
    "# Data\n",
    "count = [120, 150]\n",
    "nobs = [200, 250]\n",
    "\n",
    "# Perform z-test for proportions\n",
    "z_stat, p_value = proportions_ztest(count, nobs)\n",
    "\n",
    "print(f\"Z-statistic: {z_stat}, P-value: {p_value}\")\n",
    "```\n",
    "-->"
   ]
  },
  {
   "cell_type": "code",
   "execution_count": 3,
   "metadata": {},
   "outputs": [],
   "source": [
    "import statsmodels.api as sm\n",
    "from statsmodels.stats.proportion import proportions_ztest"
   ]
  },
  {
   "cell_type": "code",
   "execution_count": null,
   "metadata": {},
   "outputs": [],
   "source": []
  },
  {
   "cell_type": "code",
   "execution_count": null,
   "metadata": {},
   "outputs": [],
   "source": []
  },
  {
   "cell_type": "code",
   "execution_count": null,
   "metadata": {},
   "outputs": [],
   "source": []
  },
  {
   "cell_type": "markdown",
   "metadata": {},
   "source": [
    "## Chi-Square Tests of Independence\n",
    "\n",
    "**Theory:**\n",
    "The chi-square test of independence is used to determine if there is a significant association between two categorical variables. It compares the observed frequencies in each category to the frequencies expected if the variables were independent.\n",
    "\n",
    "- **Null Hypothesis (H0)**: \n",
    "    - The two variables are independent.\n",
    "- **Alternative Hypothesis (H1)**: \n",
    "    - The two variables are not independent.\n",
    "\n",
    "- **Z-statistic**: \n",
    "    - Measures the difference between the observed proportions relative to the standard error of the difference\n",
    "- **P-value**: \n",
    "    - The probability of observing the data, or something more extreme, if the null hypothesis is true. \n",
    "    - A small p-value (typically ≤ 0.05) indicates strong evidence against the null hypothesis\n",
    "- **Degrees of Freedom (dof)**: \n",
    "    - Calculated as (number of rows - 1) * (number of columns - 1).\n",
    "- **Expected Frequencies**: The frequencies expected if the variables were independent.\n",
    "\n",
    "\n",
    "---"
   ]
  },
  {
   "cell_type": "markdown",
   "metadata": {},
   "source": [
    "\n",
    "**Scenario:**\n",
    "A researcher wants to know if there is an association between gender and preference for a new product.\n",
    "\n",
    "**Task:**\n",
    "Perform a chi-square test of independence to determine if there is a significant association between gender and preference for the new product.\n",
    "\n",
    "**Data:**\n",
    "- Male: 30 prefer, 20 do not prefer\n",
    "- Female: 25 prefer, 25 do not prefer\n",
    "\n",
    "\n",
    "<!--\n",
    "```python\n",
    "import scipy.stats as stats\n",
    "\n",
    "# Data\n",
    "observed = [[30, 20], [25, 25]]\n",
    "\n",
    "# Perform chi-square test of independence\n",
    "chi2_stat, p_value, dof, expected = stats.chi2_contingency(observed)\n",
    "\n",
    "print(f\"Chi-square statistic: {chi2_stat}, P-value: {p_value}\")\n",
    "```\n",
    "-->"
   ]
  },
  {
   "cell_type": "code",
   "execution_count": 4,
   "metadata": {},
   "outputs": [],
   "source": [
    "from scipy.stats import chi2_contingency as chi2"
   ]
  },
  {
   "cell_type": "code",
   "execution_count": null,
   "metadata": {},
   "outputs": [],
   "source": []
  },
  {
   "cell_type": "code",
   "execution_count": null,
   "metadata": {},
   "outputs": [],
   "source": []
  },
  {
   "cell_type": "code",
   "execution_count": null,
   "metadata": {},
   "outputs": [],
   "source": []
  },
  {
   "cell_type": "markdown",
   "metadata": {},
   "source": [
    "## ANOVA (Analysis of Variance)\n",
    "\n",
    "**Theory:**\n",
    "ANOVA is used to determine if there are any statistically significant differences between the means of three or more independent groups. It tests the null hypothesis that all group means are equal.\n",
    "\n",
    "- **Null Hypothesis (H0)**: \n",
    "    - All group means are equal.\n",
    "    \n",
    "- **Alternative Hypothesis (H1)**: \n",
    "    - At least one group mean is different.\n",
    "\n",
    "\n",
    "- **F-statistic:** \n",
    "    - Measures the ratio of the variance between the groups to the variance within the groups.\n",
    "\n",
    "- **P-value:** \n",
    "    - The probability of observing the data, or something more extreme, if the null hypothesis is true. \n",
    "    - A small p-value (typically ≤ 0.05) indicates strong evidence against the null hypothesis."
   ]
  },
  {
   "cell_type": "code",
   "execution_count": 5,
   "metadata": {},
   "outputs": [
    {
     "name": "stdout",
     "output_type": "stream",
     "text": [
      "F-statistic: 180.66666666666734, P-value: 1.1028256754466441e-09\n"
     ]
    }
   ],
   "source": [
    "import scipy.stats as stats\n",
    "\n",
    "# Data\n",
    "group1 = [23, 20, 22, 21, 24]\n",
    "group2 = [30, 32, 29, 31, 33]\n",
    "group3 = [40, 42, 41, 39, 43]\n",
    "\n",
    "# Perform one-way ANOVA\n",
    "f_stat, p_value = stats.f_oneway(group1, group2, group3)\n",
    "\n",
    "print(f\"F-statistic: {f_stat}, P-value: {p_value}\")"
   ]
  },
  {
   "cell_type": "markdown",
   "metadata": {},
   "source": [
    "### More detailed steps of ANOVA\n",
    "\n",
    "#### 1. Formulate Hypotheses\n",
    "- **Null Hypothesis (H0)**: All group means are equal.\n",
    "- **Alternative Hypothesis (H1)**: At least one group mean is different.\n",
    "\n",
    "#### 2. Calculate Group Means and Overall Mean\n",
    "- Group Means: Calculate the mean of each group.\n",
    "- Overall Mean: Calculate the mean of all data points combined.\n",
    "\n",
    "#### 3. Calculate Sum of Squares\n",
    "**Total Sum of Squares (SST)**: Measures the total variability in the data. \n",
    "$$[ SST = \\sum_{i=1}^{N} (X_i - \\bar{X})^2 ]$$\n",
    "- where $(X_i)$ is each individual data point\n",
    "- $(\\bar{X})$ is the overall mean\n",
    "- $(N)$ is the total number of data points\n",
    "\n",
    "**Between-Group Sum of Squares (SSB)**: \n",
    "- Measures the variability between the group means. \n",
    "$$[ SSB = \\sum_{j=1}^{k} n_j (\\bar{X}_j - \\bar{X})^2 ]$$ \n",
    "- where $(n_j)$ is the number of data points in group (j)\n",
    "- $(\\bar{X}_j)$ is the mean of group (j)\n",
    "- $(k)$ is the number of groups.\n",
    "\n",
    "**Within-Group Sum of Squares (SSW)**: Measures the variability within each group. \n",
    "$$[ SSW = \\sum_{j=1}^{k} \\sum_{i=1}^{n_j} (X_{ij} - \\bar{X}j)^2 ]$$ \n",
    "- where $(X{ij})$ is each data point in group $(j)$.\n",
    "\n",
    "#### 4. Calculate Degrees of Freedom\n",
    "- **Total Degrees of Freedom (DFT)**: (N - 1)\n",
    "- **Between-Group Degrees of Freedom (DFB)**: (k - 1)\n",
    "- **Within-Group Degrees of Freedom (DFW)**: (N - k)\n",
    "\n",
    "#### 5. Calculate Mean Squares\n",
    "- **Mean Square Between (MSB)**: \n",
    "$$[ MSB = \\frac{SSB}{DFB} ]$$\n",
    "- **Mean Square Within (MSW)**: \n",
    "$$[ MSW = \\frac{SSW}{DFW} ]$$\n",
    "\n",
    "#### 6. Calculate the F-statistic\n",
    "- **F-statistic**: \n",
    "$$[ F = \\frac{MSB}{MSW} ]$$\n",
    "\n",
    "#### 7. Determine the P-value\n",
    "- Compare the calculated F-statistic to the critical value from the F-distribution table or use a statistical software to determine the p-value.\n",
    "\n",
    "#### 8. Make a Decision\n",
    "- If the p-value is less than the significance level (typically 0.05), reject the null hypothesis. This indicates that there is a significant difference between the group means."
   ]
  },
  {
   "cell_type": "markdown",
   "metadata": {},
   "source": [
    "#### Step-by-step implementation"
   ]
  },
  {
   "cell_type": "code",
   "execution_count": 6,
   "metadata": {},
   "outputs": [
    {
     "name": "stdout",
     "output_type": "stream",
     "text": [
      "Group 1 Mean: 22.0\n",
      "Group 2 Mean: 31.0\n",
      "Group 3 Mean: 41.0\n",
      "Overall Mean: 31.333333333333332\n"
     ]
    }
   ],
   "source": [
    "## Calculate Group Mean s and Overall Mean ##\n",
    "\n",
    "group1 = [23, 20, 22, 21, 24]\n",
    "group2 = [30, 32, 29, 31, 33]\n",
    "group3 = [40, 42, 41, 39, 43]\n",
    "\n",
    "mean1 = sum(group1) / len(group1)\n",
    "mean2 = sum(group2) / len(group2)\n",
    "mean3 = sum(group3) / len(group3)\n",
    "overall_mean = sum(group1 + group2 + group3) / len(group1 + group2 + group3)\n",
    "\n",
    "print(f\"Group 1 Mean: {mean1}\")\n",
    "print(f\"Group 2 Mean: {mean2}\")\n",
    "print(f\"Group 3 Mean: {mean3}\")\n",
    "print(f\"Overall Mean: {overall_mean}\")"
   ]
  },
  {
   "cell_type": "code",
   "execution_count": 7,
   "metadata": {},
   "outputs": [
    {
     "name": "stdout",
     "output_type": "stream",
     "text": [
      "SST: 933.3333333333335\n",
      "SSB: 903.3333333333333\n",
      "SSW: 30.0\n"
     ]
    }
   ],
   "source": [
    "## Calculate Sum of Square **\n",
    "\n",
    "# Total Sum of Squares (SST)\n",
    "sst = sum((x - overall_mean)**2 for x in group1 + group2 + group3)\n",
    "\n",
    "# Between-Group Sum of Squares (SSB)\n",
    "ssb = len(group1) * (mean1 - overall_mean)**2 + len(group2) * (mean2 - overall_mean)**2 + len(group3) * (mean3 - overall_mean)**2\n",
    "\n",
    "# Within-Group Sum of Squares (SSW)\n",
    "ssw = sum((x - mean1)**2 for x in group1) + sum((x - mean2)**2 for x in group2) + sum((x - mean3)**2 for x in group3)\n",
    "\n",
    "print(f\"SST: {sst}\")\n",
    "print(f\"SSB: {ssb}\")\n",
    "print(f\"SSW: {ssw}\")"
   ]
  },
  {
   "cell_type": "code",
   "execution_count": 8,
   "metadata": {},
   "outputs": [
    {
     "name": "stdout",
     "output_type": "stream",
     "text": [
      "DFT: 14\n",
      "DFB: 2\n",
      "DFW: 12\n"
     ]
    }
   ],
   "source": [
    "## Calculate Degrees of Freedom ##\n",
    "\n",
    "dft = len(group1 + group2 + group3) - 1\n",
    "dfb = 3 - 1  # Number of groups - 1\n",
    "dfw = dft - dfb\n",
    "\n",
    "print(f\"DFT: {dft}\")\n",
    "print(f\"DFB: {dfb}\")\n",
    "print(f\"DFW: {dfw}\")"
   ]
  },
  {
   "cell_type": "code",
   "execution_count": 9,
   "metadata": {},
   "outputs": [
    {
     "name": "stdout",
     "output_type": "stream",
     "text": [
      "MSB: 451.66666666666663\n",
      "MSW: 2.5\n"
     ]
    }
   ],
   "source": [
    "## Calculate Mean Squares ##\n",
    "\n",
    "msb = ssb / dfb\n",
    "msw = ssw / dfw\n",
    "\n",
    "print(f\"MSB: {msb}\")\n",
    "print(f\"MSW: {msw}\")"
   ]
  },
  {
   "cell_type": "code",
   "execution_count": 10,
   "metadata": {},
   "outputs": [
    {
     "name": "stdout",
     "output_type": "stream",
     "text": [
      "F-statistic: 180.66666666666666\n"
     ]
    }
   ],
   "source": [
    "## Calculate F-Statistic ##\n",
    "f_stat = msb / msw\n",
    "\n",
    "print(f\"F-statistic: {f_stat}\")"
   ]
  },
  {
   "cell_type": "code",
   "execution_count": 11,
   "metadata": {},
   "outputs": [
    {
     "name": "stdout",
     "output_type": "stream",
     "text": [
      "P-value: 1.1028256754466685e-09\n"
     ]
    }
   ],
   "source": [
    "## Determine P-Value ##\n",
    "\n",
    "import scipy.stats as stats\n",
    "\n",
    "p_value = stats.f.sf(f_stat, dfb, dfw)\n",
    "\n",
    "print(f\"P-value: {p_value}\")"
   ]
  },
  {
   "cell_type": "code",
   "execution_count": 12,
   "metadata": {},
   "outputs": [
    {
     "name": "stdout",
     "output_type": "stream",
     "text": [
      "Reject the null hypothesis\n"
     ]
    }
   ],
   "source": [
    "## Make Decision ##\n",
    "\n",
    "alpha = 0.05\n",
    "\n",
    "if p_value <= alpha:\n",
    "    print(\"Reject the null hypothesis\")\n",
    "else:\n",
    "    print(\"Fail to reject the null hypothesis\")\n",
    "\n",
    "    "
   ]
  },
  {
   "cell_type": "markdown",
   "metadata": {},
   "source": [
    "## Multiple Comparison of Means with ANOVA (Post-hoc Test)\n",
    "\n",
    "**Theory**:\n",
    "When ANOVA indicates a significant difference, a post-hoc test is used to determine which specific groups' means are different. One common post-hoc test is Tukey's Honest Significant Difference (HSD) test.\n",
    "\n",
    "- **Tukey's HSD Test**: \n",
    "    - Compares all possible pairs of group means to determine which means are significantly different from each other.\n",
    "- **endog**: \n",
    "    - The dependent variable (data).\n",
    "- **groups**: \n",
    "    - The independent variable (group labels).\n",
    "- **alpha**: \n",
    "    - The significance level (typically 0.05 but depends on use-case).\n"
   ]
  },
  {
   "cell_type": "code",
   "execution_count": 13,
   "metadata": {},
   "outputs": [
    {
     "name": "stdout",
     "output_type": "stream",
     "text": [
      "Multiple Comparison of Means - Tukey HSD, FWER=0.05\n",
      "===================================================\n",
      "group1 group2 meandiff p-adj  lower   upper  reject\n",
      "---------------------------------------------------\n",
      "group1 group2      9.0   0.0  6.3321 11.6679   True\n",
      "group1 group3     19.0   0.0 16.3321 21.6679   True\n",
      "group2 group3     10.0   0.0  7.3321 12.6679   True\n",
      "---------------------------------------------------\n"
     ]
    }
   ],
   "source": [
    "import statsmodels.api as sm\n",
    "from statsmodels.stats.multicomp import pairwise_tukeyhsd\n",
    "\n",
    "# Data\n",
    "data = group1 + group2 + group3\n",
    "groups = ['group1']*len(group1) + ['group2']*len(group2) + ['group3']*len(group3)\n",
    "\n",
    "# Perform Tukey's HSD test\n",
    "tukey_result = pairwise_tukeyhsd(endog=data, groups=groups, alpha=0.05)\n",
    "\n",
    "print(tukey_result)"
   ]
  },
  {
   "cell_type": "markdown",
   "metadata": {},
   "source": [
    "**Example with Ranking the Values:**\n",
    "Let's extend the example to include ranking the values.\n",
    "\n",
    "- **ANOVA Result**: \n",
    "    - Provides the F-statistic and p-value for the overall test.\n",
    "- **Tukey's HSD Test Result**: \n",
    "    - Shows which group means are significantly different.\n",
    "- **Ranking the Values**: \n",
    "    - Adds a rank column to the DataFrame and sorts the values by rank"
   ]
  },
  {
   "cell_type": "code",
   "execution_count": 14,
   "metadata": {},
   "outputs": [
    {
     "name": "stdout",
     "output_type": "stream",
     "text": [
      "              sum_sq    df           F        PR(>F)\n",
      "group     903.333333   2.0  180.666667  1.102826e-09\n",
      "Residual   30.000000  12.0         NaN           NaN\n",
      "Multiple Comparison of Means - Tukey HSD, FWER=0.05\n",
      "===================================================\n",
      "group1 group2 meandiff p-adj  lower   upper  reject\n",
      "---------------------------------------------------\n",
      "group1 group2      9.0   0.0  6.3321 11.6679   True\n",
      "group1 group3     19.0   0.0 16.3321 21.6679   True\n",
      "group2 group3     10.0   0.0  7.3321 12.6679   True\n",
      "---------------------------------------------------\n",
      "    value   group  rank\n",
      "1      20  group1   1.0\n",
      "3      21  group1   2.0\n",
      "2      22  group1   3.0\n",
      "0      23  group1   4.0\n",
      "4      24  group1   5.0\n",
      "7      29  group2   6.0\n",
      "5      30  group2   7.0\n",
      "8      31  group2   8.0\n",
      "6      32  group2   9.0\n",
      "9      33  group2  10.0\n",
      "13     39  group3  11.0\n",
      "10     40  group3  12.0\n",
      "12     41  group3  13.0\n",
      "11     42  group3  14.0\n",
      "14     43  group3  15.0\n"
     ]
    }
   ],
   "source": [
    "import pandas as pd\n",
    "import numpy as np\n",
    "import statsmodels.api as sm\n",
    "from statsmodels.formula.api import ols\n",
    "from statsmodels.stats.multicomp import pairwise_tukeyhsd\n",
    "\n",
    "# Data\n",
    "data = {\n",
    "    'value': group1 + group2 + group3,\n",
    "    'group': ['group1']*len(group1) + ['group2']*len(group2) + ['group3']*len(group3)\n",
    "}\n",
    "\n",
    "df = pd.DataFrame(data)\n",
    "\n",
    "# Perform ANOVA\n",
    "model = ols('value ~ group', data=df).fit()\n",
    "anova_result = sm.stats.anova_lm(model, typ=2)\n",
    "print(anova_result)\n",
    "\n",
    "# Perform Tukey's HSD test\n",
    "tukey_result = pairwise_tukeyhsd(endog=df['value'], groups=df['group'], alpha=0.05)\n",
    "print(tukey_result)\n",
    "\n",
    "# Ranking the values\n",
    "df['rank'] = df['value'].rank()\n",
    "print(df.sort_values(by='rank'))"
   ]
  },
  {
   "cell_type": "markdown",
   "metadata": {},
   "source": [
    "### More detailed steps of ANOVA Post-hoc Test (Tukey's HSD)\n",
    "\n",
    "#### 1. Perform ANOVA \n",
    "- First, we need to perform ANOVA to determine if there is a significant difference between the group means which we already did above. If ANOVA indicates a significant difference, we proceed with the post-hoc test\n",
    "\n",
    "#### 2. Formulate Hypotheses for Post-hoc Test\n",
    "- **Null Hypothesis (H0)**: The means of the specific pairs of groups are equal.\n",
    "- **Alternative Hypothesis (H1)**: The means of the specific pairs of groups are not equal.\n",
    "\n",
    "#### 3. Calculate Pairwise Comparisons\n",
    "Tukey's HSD test compares all possible pairs of group means to determine which pairs are significantly different.\n",
    "\n",
    "#### 4. Calculate the HSD Statistic\n",
    "The HSD statistic is calculated for each pair of groups. It is based on the studentized range distribution.\n",
    "\n",
    "#### 5. Determine the P-values for Each Pair\n",
    "The p-values indicate the probability of observing the data, or something more extreme, if the null hypothesis is true for each pair of groups.\n",
    "\n",
    "#### 6. Make a Decision for Each Pair\n",
    "If the p-value for a pair is less than the significance level (typically 0.05), reject the null hypothesis for that pair, indicating a significant difference between the group means."
   ]
  },
  {
   "cell_type": "markdown",
   "metadata": {},
   "source": [
    "#### Step-by-step implementation"
   ]
  },
  {
   "cell_type": "code",
   "execution_count": 15,
   "metadata": {},
   "outputs": [
    {
     "name": "stdout",
     "output_type": "stream",
     "text": [
      "ANOVA Result:\n",
      "              sum_sq    df           F        PR(>F)\n",
      "group     903.333333   2.0  180.666667  1.102826e-09\n",
      "Residual   30.000000  12.0         NaN           NaN\n"
     ]
    }
   ],
   "source": [
    "## Perform ANOVA ##\n",
    "# even though we already did this\n",
    "\n",
    "import pandas as pd\n",
    "import statsmodels.api as sm\n",
    "from statsmodels.formula.api import ols\n",
    "\n",
    "# Data\n",
    "group1 = [23, 20, 22, 21, 24]\n",
    "group2 = [30, 32, 29, 31, 33]\n",
    "group3 = [40, 42, 41, 39, 43]\n",
    "\n",
    "data = {\n",
    "    'value': group1 + group2 + group3,\n",
    "    'group': ['group1']*len(group1) + ['group2']*len(group2) + ['group3']*len(group3)\n",
    "}\n",
    "\n",
    "df = pd.DataFrame(data)\n",
    "\n",
    "# Perform ANOVA\n",
    "model = ols('value ~ group', data=df).fit()\n",
    "anova_result = sm.stats.anova_lm(model, typ=2)\n",
    "print(\"ANOVA Result:\")\n",
    "print(anova_result)"
   ]
  },
  {
   "cell_type": "code",
   "execution_count": 16,
   "metadata": {},
   "outputs": [
    {
     "name": "stdout",
     "output_type": "stream",
     "text": [
      "\n",
      "ANOVA is significant. Proceeding with Tukey's HSD test.\n",
      "\n",
      "Tukey's HSD Test Result:\n",
      "Multiple Comparison of Means - Tukey HSD, FWER=0.05\n",
      "===================================================\n",
      "group1 group2 meandiff p-adj  lower   upper  reject\n",
      "---------------------------------------------------\n",
      "group1 group2      9.0   0.0  6.3321 11.6679   True\n",
      "group1 group3     19.0   0.0 16.3321 21.6679   True\n",
      "group2 group3     10.0   0.0  7.3321 12.6679   True\n",
      "---------------------------------------------------\n"
     ]
    }
   ],
   "source": [
    "## Check ANOVA Result and potentially peform Tukey's HSD test ##\n",
    "\n",
    "# Check if ANOVA is significant\n",
    "if anova_result['PR(>F)'].iloc[0] < 0.05:\n",
    "    print(\"\\nANOVA is significant. Proceeding with Tukey's HSD test.\")\n",
    "    \n",
    "    # Perform Tukey's HSD test\n",
    "    tukey_result = pairwise_tukeyhsd(endog=df['value'], groups=df['group'], alpha=0.05)\n",
    "    print(\"\\nTukey's HSD Test Result:\")\n",
    "    print(tukey_result)\n",
    "else:\n",
    "    print(\"\\nANOVA is not significant. No need for further post-hoc testing.\")"
   ]
  },
  {
   "cell_type": "markdown",
   "metadata": {},
   "source": [
    "## Interpret the Results ##\n",
    "\n",
    "- **Group1 - Group2**: The comparison between Group 1 and Group 2.\n",
    "- **Group1 - Group3**: The comparison between Group 1 and Group 3.\n",
    "- **Group2 - Group3**: The comparison between Group 2 and Group 3.\n",
    "- **meandiff**: The difference in means between the two groups.\n",
    "- **p-adj**: The adjusted p-value for the comparison.\n",
    "- **lower**: The lower bound of the confidence interval for the mean difference.\n",
    "- **upper**: The upper bound of the confidence interval for the mean difference.\n",
    "- **reject**: Indicates whether the null hypothesis is rejected for the comparison (True if p-adj < 0.05)\n",
    "\n",
    "\n"
   ]
  },
  {
   "cell_type": "code",
   "execution_count": null,
   "metadata": {},
   "outputs": [],
   "source": []
  },
  {
   "cell_type": "code",
   "execution_count": null,
   "metadata": {},
   "outputs": [],
   "source": []
  }
 ],
 "metadata": {
  "kernelspec": {
   "display_name": "base",
   "language": "python",
   "name": "python3"
  },
  "language_info": {
   "codemirror_mode": {
    "name": "ipython",
    "version": 3
   },
   "file_extension": ".py",
   "mimetype": "text/x-python",
   "name": "python",
   "nbconvert_exporter": "python",
   "pygments_lexer": "ipython3",
   "version": "3.11.9"
  }
 },
 "nbformat": 4,
 "nbformat_minor": 2
}
