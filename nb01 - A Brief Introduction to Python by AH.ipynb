{
 "cells": [
  {
   "cell_type": "markdown",
   "metadata": {},
   "source": [
    "# Welcome to a Brief Introduction to Python!\n",
    "\n",
    "We are going to discuss some Python programming basics and leave you with exercises you can complete on your own. \n",
    "\n",
    "To be covered:\n",
    "- Data Types\n",
    "    - integers\n",
    "    - floats\n",
    "    - strings\n",
    "    - lists\n",
    "    - dictionaries\n",
    "- Operators\n",
    "    - math operators\n",
    "    - logical operators\n",
    "- Variable Naming    \n",
    "- For Loops\n"
   ]
  },
  {
   "cell_type": "markdown",
   "metadata": {},
   "source": [
    "## Hello World\n",
    "\n",
    "One of the first things you'll need to know is how to display information on the screen. In Python, you can do so by calling the `print` command like this:\n",
    "\n",
    "\n",
    "```python \n",
    "print(\"Hello World\")\n",
    "```\n",
    "#### Exercise:\n",
    "Retype the above code (don't copy+paste!) in the cell below and press **[`Shift` + `Enter`]** *or* **[`Ctrl` + `Enter`]** to execute your first program!"
   ]
  },
  {
   "cell_type": "code",
   "execution_count": null,
   "metadata": {},
   "outputs": [],
   "source": [
    "# Hello World Exercise\n"
   ]
  },
  {
   "cell_type": "code",
   "execution_count": null,
   "metadata": {},
   "outputs": [],
   "source": [
    "# when you write a hashtag, everything that follows on the same line is a 'comment' and does not run as code\n"
   ]
  },
  {
   "cell_type": "markdown",
   "metadata": {},
   "source": [
    "## Numbers and Math Operators\n",
    "When it comes to Python, there are two distinct types of numbers that you should be aware of:\n",
    "\n",
    "**Integers:** *whole numbers without any decimals (i.e. 5 or 5000)*\n",
    "\n",
    "**Floats:** *numbers that include decimals (i.e. 5.0 or 5000.1)*\n",
    "\n",
    "It is very important to be aware of these distinct types and their different behaviours especially as you progress. We aren't going to address the differences today, but you should at least be aware for now.\n",
    "\n",
    "Now let's talk **Math Operators**. They are mostly straightforward and follow PEMDAS order of operations:\n",
    "\n",
    "```python\n",
    "# addition\n",
    "4 + 4\n",
    ">>> 8\n",
    "\n",
    "# subtraction\n",
    "4 - 4\n",
    ">>> 0\n",
    "\n",
    "# multiplication\n",
    "4 * 4\n",
    ">>> 16\n",
    "\n",
    "# division\n",
    "4 / 4\n",
    ">>> 1\n",
    "\n",
    "# exponent\n",
    "4**4\n",
    ">>> 256\n",
    "\n",
    "# modulo (this calculates the remainder of a division problem)\n",
    "4%4\n",
    ">>> 0\n",
    "```\n",
    "\n",
    "Note: If you use more than one mathematical operator, Python follows the PEMDAS order of operations\n",
    "```python\n",
    "# example 1\n",
    "4 + 4 * 4\n",
    ">>> 20\n",
    "\n",
    "# example 2\n",
    "(4 + 4) * 4\n",
    ">>> 32\n",
    "```\n",
    "\n",
    "#### Exercise:\n",
    "Write and execute a simple calculation in the cell below. The numbers can be as large or as small as you want as long as you use one or more of the mathematical operators. \n",
    "\n",
    "Remember, press **[`Shift` + `Enter`]** *or* **[`Ctrl` + `Enter`]** to execute the cell"
   ]
  },
  {
   "cell_type": "code",
   "execution_count": null,
   "metadata": {},
   "outputs": [],
   "source": [
    "# Math Operators Exercise\n"
   ]
  },
  {
   "cell_type": "code",
   "execution_count": null,
   "metadata": {},
   "outputs": [],
   "source": [
    "\n"
   ]
  },
  {
   "cell_type": "markdown",
   "metadata": {},
   "source": [
    "## Variable Assignment\n",
    "One of the strengths of Python is its ability to store values as **variables**. To store information in a variable:\n",
    "- declare the variable name\n",
    "- followed by the assignment operator `=`\n",
    "- then the value you wish to store\n",
    "\n",
    "This can be implemented on math problems:\n",
    "\n",
    "\n",
    "```python\n",
    "# assign x to a number\n",
    "x = 17 \n",
    "\n",
    "# assign y to a number\n",
    "y = 3\n",
    "\n",
    "# execute x + y\n",
    "x + y  \n",
    ">>> 20\n",
    "```\n",
    "\n",
    "I used `x` and `y` for simplicity, but when it comes to naming a variable, you can use any word or letter as long as you follow three rules:\n",
    "\n",
    "    1. Variable names cannot start with numbers\n",
    "    2. Except for the underscore, variable names cannot contain any special characters (!, @, #, $, %, ^, &, *)\n",
    "    3. There are certain keywords that hold special meaning in Python and cannot be variable names. \n",
    "        - You can see a list of these words by executing the cell below"
   ]
  },
  {
   "cell_type": "code",
   "execution_count": null,
   "metadata": {},
   "outputs": [],
   "source": [
    "# EXECUTE THIS CELL \n",
    "print (\"These keywords are reserved for other purposes in Python:\")\n",
    "import keyword # we'll talk about 'importing' later\n",
    "print(keyword.kwlist)"
   ]
  },
  {
   "cell_type": "markdown",
   "metadata": {},
   "source": [
    "#### Exercise:\n",
    "Try writing the same math problem you did in the previous exercise, but use variable assignment like in the example I provided. You can write a completely new problem as long as you use variable assignment."
   ]
  },
  {
   "cell_type": "code",
   "execution_count": null,
   "metadata": {},
   "outputs": [],
   "source": [
    "# Variable Assignment Exercise\n"
   ]
  },
  {
   "cell_type": "code",
   "execution_count": null,
   "metadata": {},
   "outputs": [],
   "source": [
    "\n"
   ]
  },
  {
   "attachments": {
    "image.png": {
     "image/png": "[encoded data removed]"
    }
   },
   "cell_type": "markdown",
   "metadata": {},
   "source": [
    "# Bools and Logical Operators\n",
    "\n",
    "A `bool` is simply a check on a binary condition, i.e. a question of True or False. For example:\n",
    "\n",
    "```python\n",
    "# assign a number to a variable\n",
    "x = 4 \n",
    "y = 0\n",
    "# check some condition\n",
    "x > y\n",
    ">>> True\n",
    "\n",
    "# check another condition\n",
    "x < y\n",
    ">>> False\n",
    "```\n",
    "\n",
    "The above example asks the question **is $4$ greater than zero?** Because 4 *is* greater than zero, Python returns `True`. \n",
    "\n",
    "The example used the *greater than* symbol, but there are ten logical operators you can use:\n",
    "\n",
    "![image.png](attachment:image.png)\n",
    "\n",
    "Try checking a condition on your own using variable naming from before and any of the logical operators in the above picture."
   ]
  },
  {
   "cell_type": "code",
   "execution_count": null,
   "metadata": {},
   "outputs": [],
   "source": [
    "# Logical Operators Exercise\n"
   ]
  },
  {
   "cell_type": "code",
   "execution_count": null,
   "metadata": {},
   "outputs": [],
   "source": [
    "\n"
   ]
  },
  {
   "cell_type": "markdown",
   "metadata": {},
   "source": [
    "## Strings\n",
    "\n",
    "Another very important data type in Python is the `string`. A string can be a word, a sentence, or even a number.  A string is formed using quotation marks `\"\"` or apostrophes `''` (more on this later), and you can even use variable assignment like we did with our math problem!\n",
    "\n",
    "```python\n",
    "# assign a string to a variable name\n",
    "some_string = \"Hello World\"\n",
    "\n",
    "# print the string\n",
    "print(some_string)\n",
    ">>> Hello World\n",
    "```\n",
    "\n",
    "Remember, a string can be a number - but if you make a number a string, you can't perform a math operation on it:\n",
    "```python\n",
    "# assign x to a string, even though that string is a number\n",
    "x = \"4\"\n",
    "\n",
    "# assign y to an integer\n",
    "y = 0\n",
    "\n",
    "# try adding these two different data types\n",
    "x + y\n",
    ">>> TypeError: can only concatenate str (not \"int\") to str\n",
    "```\n",
    "\n",
    "#### String Concatenation\n",
    "The example above did not work because we tried adding two different data types. But two or more strings *can* be added together in a process called concatenation (chaining two strings together).\n",
    "\n",
    "```python\n",
    "# assign strings to variable names\n",
    "o_string = 'o'\n",
    "k_string = 'k'\n",
    "\n",
    "# now create a new variable using addition operator\n",
    "full_string = o_string + k_string\n",
    "print(full_string)\n",
    ">>> ok\n",
    "```\n"
   ]
  },
  {
   "cell_type": "markdown",
   "metadata": {},
   "source": [
    "#### Quotation Mark vs Apostrophe\n",
    "I promised we'd come back to this. \n",
    "\n",
    "You can assign a string using either quotation marks or apostrophes:\n",
    "```python\n",
    "some_string = \"hello\"\n",
    "print(some_string)\n",
    ">>> hello\n",
    "\n",
    "other_string = 'goodbye'\n",
    "print(other_string)\n",
    ">>> goodbye\n",
    "```\n",
    "\n",
    "But if you want to use an apostrophe in your string (e.g. for a grammatical contraction or possessive), it's best to use quotations marks like in the cell below:"
   ]
  },
  {
   "cell_type": "code",
   "execution_count": null,
   "metadata": {},
   "outputs": [],
   "source": [
    "# EXECUTE THIS CELL\n",
    "# string using quotation marks with appropriate apostrophe\n",
    "apostrophe_string = \"I can't even\"\n",
    "print(apostrophe_string)"
   ]
  },
  {
   "cell_type": "markdown",
   "metadata": {},
   "source": [
    "#### Strings cont'd\n",
    "There are occassions when you want to combine a string with some math equation.\n",
    "\n",
    "```python\n",
    "# create a string\n",
    "sentence = \"The average age of the children is\"\n",
    "\n",
    "# create some variables\n",
    "first_child = 6\n",
    "second_child = 4\n",
    "\n",
    "# now print the string AND the output of a math equation\n",
    "print(sentence, ((first_child + second_child) / 2))\n",
    ">>> \"The average age of the children is 5.0\"\n",
    "```"
   ]
  },
  {
   "cell_type": "markdown",
   "metadata": {},
   "source": [
    "## Lists\n",
    "\n",
    "Lists are a very important data type. A list is exactly what is sounds like - an *ordered* collection of items. And remember, the order of the list matters as we'll see later.\n",
    "\n",
    "A list is created using brackets `[]` and variable assignment:\n",
    "```python\n",
    "# create a list of integers\n",
    "some_list = [1, 2, 3]\n",
    "# display the list\n",
    "some_list\n",
    ">>> [1, 2, 3]\n",
    "\n",
    "# create a list of strings\n",
    "other_list = ['a', 'b', 'c']\n",
    "# display the list\n",
    "other_list\n",
    ">>> ['a', 'b', 'c']\n",
    "\n",
    "```\n",
    "Lists can contain multiple data types:\n",
    "```python\n",
    "# create a list with integers AND strings\n",
    "mixed_list = [1, 'a', 2, 'b']\n",
    "# display the list\n",
    "mixed_list\n",
    ">>> [1, 'a', 2, 'b']\n",
    "\n",
    "```\n",
    "\n",
    "#### Exercise:\n",
    "Create a list containing three objects and then print the list. Your list can contain any data types you choose.\n",
    "\n",
    "*Note: you don't actually have to \"print\" a list to display it. After it is created, type the name of the list on a new line*"
   ]
  },
  {
   "cell_type": "code",
   "execution_count": null,
   "metadata": {},
   "outputs": [],
   "source": [
    "# List Exercise\n"
   ]
  },
  {
   "cell_type": "code",
   "execution_count": null,
   "metadata": {},
   "outputs": [],
   "source": [
    "\n"
   ]
  },
  {
   "cell_type": "markdown",
   "metadata": {},
   "source": [
    "## Changing a list\n",
    "A list wouldn't be very useful if we couldn't change it. There are many ways to do so in Python. We'll look at three basic ones. \n",
    "\n",
    "#### Combining two lists\n",
    "```python\n",
    "# create two lists\n",
    "some_list = [1, 2, 3]\n",
    "other_list = ['a', 'b', 'c']\n",
    "\n",
    "# combine those lists\n",
    "mixed_list = some_list + other_list\n",
    "\n",
    "# now look at your new list\n",
    "mixed_list\n",
    ">>> [1, 2, 3, 'a', 'b', 'c']\n",
    "```\n",
    "\n",
    "#### Appending to a list\n",
    "```python\n",
    "# create a list\n",
    "some_list = [1, 2, 3]\n",
    "\n",
    "# use the append 'method' to add a value to the end of the list\n",
    "some_list.append(4)\n",
    "\n",
    "# now look at your new list\n",
    "some_list\n",
    ">>> [1, 2, 3, 4]\n",
    "```\n",
    "\n",
    "#### Removing from a list\n",
    "```python\n",
    "# create a list\n",
    "some_list = [1, 2, 3]\n",
    "\n",
    "# use the remove 'method' to delete a value from the list\n",
    "some_list.remove(3)\n",
    "\n",
    "# now look at your new list\n",
    "some_list\n",
    ">>> [1, 2]\n",
    "```\n",
    "\n",
    "#### Exercise:\n",
    "Try adding or removing from the list you created in the previous exercise using one of the methods above."
   ]
  },
  {
   "cell_type": "code",
   "execution_count": null,
   "metadata": {},
   "outputs": [],
   "source": [
    "# Changing List Exercise\n"
   ]
  },
  {
   "cell_type": "code",
   "execution_count": null,
   "metadata": {},
   "outputs": [],
   "source": [
    "\n"
   ]
  },
  {
   "cell_type": "markdown",
   "metadata": {},
   "source": [
    "## List Indexing / Slicing\n",
    "Now here is where it really starts to get interesting. Recall that we said a list is an *ordered* collection of objects. This is important because each element of a list has an index number which you can use to look up elements in your list. You can ask Python to give you the first element in a list without even knowing what that object is. Looking up a list element by it's index number is referred to as \"slicing\". Slicing is done using the list name, brackets `[]`, and the index number.\n",
    "\n",
    "\n",
    "```python\n",
    "# create a list\n",
    "other_list = ['a', 'b', 'c']\n",
    "\n",
    "# 'slice' in to the list\n",
    "other_list[0]\n",
    ">>> 'a'\n",
    "```\n",
    "\n",
    "This returned the first value in our list `'a'` \n",
    "\n",
    "You may be asking, why did we 'slice' into the list using the number zero? **Python indices are zero based**. This means the first element in a list has an index number of zero (trust me, you get used to it). Because `'a'` is the first element in `other_list`, it's index is zero. \n",
    "\n",
    "#### Exercise:\n",
    "In the cell below I wrote the code to create `other_list` but it still needs to be executed. Can you complete the code and return `'c'` by slicing in to `other_list`? "
   ]
  },
  {
   "cell_type": "code",
   "execution_count": null,
   "metadata": {},
   "outputs": [],
   "source": [
    "# List Slicing Exercise\n",
    "other_list = ['a', 'b', 'c']\n"
   ]
  },
  {
   "cell_type": "code",
   "execution_count": null,
   "metadata": {},
   "outputs": [],
   "source": [
    "\n"
   ]
  },
  {
   "cell_type": "markdown",
   "metadata": {},
   "source": [
    "## Dictionaries\n",
    "There is another fundamental data type we haven't yet discussed - the dictionary. A dictionary is a mapping of *unique* keys to values. Dictionaries are great for storing more complex or hierarchical information. A dictionary is created using:\n",
    "- a variable name\n",
    "- the assignment operator `=`\n",
    "- curly brackets `{}`\n",
    "- a unique key\n",
    "- a colon `:`\n",
    "- a value represented by the key\n",
    "- a comma to separate each `key`**:**`value` pair\n",
    "\n",
    "For example:\n",
    "\n",
    "```python\n",
    "# create a dictionary\n",
    "employee_1 = {\n",
    "    'first': 'Jack',\n",
    "    'last': 'Box',\n",
    "    'age': 51,\n",
    "    'title': 'CEO',\n",
    "}\n",
    "```\n",
    "\n",
    "There are many ways to retrieve information from a dictionary. Let's look at a basic one, the `.get` method:\n",
    "```python\n",
    "employee_1.get('first')\n",
    ">>> 'Jack'\n",
    "```\n",
    "\n",
    "\n",
    "#### Exercise:\n",
    "Create your own dictionary with *your* information! Follow the syntax above. Remember to separate each key:value pair by a comma. It's helpful to also move to a new line with each key:value pair to make it easier for humans to read. Once the dictionary is created, look up one of the values using a key you created."
   ]
  },
  {
   "cell_type": "code",
   "execution_count": null,
   "metadata": {},
   "outputs": [],
   "source": [
    "# Create a dictionary exercise\n"
   ]
  },
  {
   "cell_type": "code",
   "execution_count": null,
   "metadata": {},
   "outputs": [],
   "source": [
    "\n"
   ]
  },
  {
   "cell_type": "code",
   "execution_count": null,
   "metadata": {},
   "outputs": [],
   "source": [
    "# Look up key:value exercise\n"
   ]
  },
  {
   "cell_type": "code",
   "execution_count": null,
   "metadata": {},
   "outputs": [],
   "source": [
    "\n"
   ]
  },
  {
   "cell_type": "markdown",
   "metadata": {},
   "source": [
    "### Updating a dictionary\n",
    "You can add values to a dictionary that already exists. This is done using the dictionary name, brackets `[]` that contain a new key, the assignment operator `=`, and the new value.\n",
    "\n",
    "```python\n",
    "# create the new key:value pair\n",
    "employee_1['favorite_food'] = 'spicy strips'\n",
    "\n",
    "# now look up your new value using your key\n",
    "employee_1.get('favorite_food')\n",
    ">>> 'spicy strips'\n",
    "```\n",
    "\n",
    "#### Exercise\n",
    "This same syntax can be used to *replace* the value for a key that already exists. Try adding a new key:value to the dictionary you created or replace one of the existing values. Follow the syntax in the example above."
   ]
  },
  {
   "cell_type": "code",
   "execution_count": null,
   "metadata": {},
   "outputs": [],
   "source": [
    "# Update a dictionary exercise\n"
   ]
  },
  {
   "cell_type": "code",
   "execution_count": null,
   "metadata": {},
   "outputs": [],
   "source": [
    "\n"
   ]
  },
  {
   "cell_type": "markdown",
   "metadata": {},
   "source": [
    "## For loops\n",
    "One of the strengths of Python is how easily it can be used to perform repetitive tasks. One of the ways to accomplish this is by using what's called a **for loop**. The syntax is straight forward but we'll break it down piece-by-piece. First an example:\n",
    "\n",
    "```python\n",
    "# create a new list, just like we've done before\n",
    "new_list = [0, 1, 2]\n",
    "\n",
    "# initiate your for loop\n",
    "for something in new_list:\n",
    "    # set the action each loop takes\n",
    "    print(something)\n",
    ">>> 0\n",
    ">>> 1\n",
    ">>> 2\n",
    "```\n",
    "\n",
    "The for loop went through the list and printed every value on a new line!\n",
    "\n",
    "### Breaking down the for loop\n",
    "\n",
    "#### To loop over something, we need an object that contains values, in this case we're looping over a list. \n",
    "\n",
    "```python\n",
    "# create a new list, just like we've done before\n",
    "new_list = [0, 1, 2]\n",
    "```\n",
    "\n",
    "#### Initiate the loop\n",
    "```python\n",
    "for *something* in *object*:\n",
    "```\n",
    "- we start the for loop using the `for` keyword\n",
    "- followed by a stand-in word representing what we want out of the object (this word can be anything as long as it makes sense to you. e.g. \"city\" if you are looping over a list of cities)\n",
    "- followed by the `in` keyword\n",
    "- followed by the object (in this example `new_list`) that we are looping over\n",
    "- followed by a colon `:`.\n",
    "- Now press the `enter` key to move to the next line\n",
    "\n",
    "#### Set the action each loop takes\n",
    "```python\n",
    "indent-> print(something)\n",
    "```\n",
    "- Jupyter will automatically indent the next line. If it is not indented, the code will not properly execute. You can indent using the `tab` key\n",
    "- The action we want to take is simply to print each element of the list. Therefore we are using `print` but this can be many other actions depending on the situation\n",
    "- Now we use the same stand-in word that we used when we initiated the for loop. Again, this word can be anything that makes sense to you as long as it's the same word used earlier"
   ]
  },
  {
   "cell_type": "code",
   "execution_count": null,
   "metadata": {},
   "outputs": [],
   "source": [
    "# here is another example\n",
    "# EXECUTE THIS CELL\n",
    "\n",
    "# create a list\n",
    "cities = ['Philly', 'San Diego', 'Denver']\n",
    "\n",
    "# initiate a for loop\n",
    "for city in cities:\n",
    "    # take some action with each loop. remember it needs to be indented\n",
    "    print(city)"
   ]
  },
  {
   "cell_type": "markdown",
   "metadata": {},
   "source": [
    "#### Exercise:\n",
    "Create your own for loop. Try following the syntax outlined above, You can use any of the lists we've already covered or create a new one."
   ]
  },
  {
   "cell_type": "code",
   "execution_count": null,
   "metadata": {},
   "outputs": [],
   "source": [
    "# For Loop Exercise\n"
   ]
  },
  {
   "cell_type": "code",
   "execution_count": null,
   "metadata": {},
   "outputs": [],
   "source": [
    "\n"
   ]
  },
  {
   "cell_type": "markdown",
   "metadata": {},
   "source": [
    "## List Comprehension\n",
    "\n",
    "List comprehension is a convenient way to iterate through a list and return a new list, without using a for-loop. Typically when using a for-loop, we have to create an empty list first and then add to it. List comprehensions trims this down to a one-liner.\n",
    "\n",
    "*Syntax:*\n",
    "```python\n",
    "[expression for item in iterable]\n",
    "```\n",
    "\n",
    "**Explanation**\n",
    "- `expression`: The expression to evaluate and include in the new list.\n",
    "- `for item in iterable`: The loop that iterates over each item in the original iterable (e.g., a list, tuple, or string)."
   ]
  },
  {
   "cell_type": "code",
   "execution_count": null,
   "metadata": {},
   "outputs": [],
   "source": []
  },
  {
   "cell_type": "markdown",
   "metadata": {},
   "source": [
    "#### Exercise:\n",
    "\n",
    "Implement your own list comprehension. Take the list of given numbers and return the numbers squared"
   ]
  },
  {
   "cell_type": "code",
   "execution_count": null,
   "metadata": {},
   "outputs": [],
   "source": [
    "num_list = [1, 2, 3, 4, 5, 6, 7, 8, 9, 10]\n",
    "\n",
    "# return a list of the numbers squared\n",
    "\n",
    "num_list_squared = None # replace `None` with your code\n",
    "num_list_squared"
   ]
  },
  {
   "cell_type": "code",
   "execution_count": null,
   "metadata": {},
   "outputs": [],
   "source": [
    "evens_squared = None # replace `None` with your code\n",
    "evens_squared"
   ]
  },
  {
   "cell_type": "markdown",
   "metadata": {},
   "source": [
    "We can also include some conditional logic on the original list so that we aren't selecting every item within it. This is very similar to above with an added wrinkle.\n",
    "\n",
    "*Syntax with conditional statement:*\n",
    "```python\n",
    "[expression for item in iterable if condition]\n",
    "```\n",
    "\n",
    "**Explanation**\n",
    "- `expression`: The expression to evaluate and include in the new list.\n",
    "- `for item in iterable`: The loop that iterates over each item in the original iterable (e.g., a list, tuple, or string).\n",
    "- `if condition (optional)`: A conditional statement that filters which items to include in the new list."
   ]
  },
  {
   "cell_type": "markdown",
   "metadata": {},
   "source": [
    "\n",
    "#### Exercise:\n",
    "Take the list of given numbers and return the numbers squared, but only if the original number is *even*"
   ]
  },
  {
   "cell_type": "code",
   "execution_count": null,
   "metadata": {},
   "outputs": [],
   "source": []
  },
  {
   "cell_type": "markdown",
   "metadata": {},
   "source": [
    "## Importing Libraries\n",
    "\n",
    "As you continue on your Python journey, you'll encounter examples of code using an `import` statement.\n",
    "\n",
    "```python\n",
    "import pandas as pd\n",
    "```\n",
    "\n",
    "Python is an open source coding language. This means people all over the world create and publish code that can help other users accomplish certain tasks. Using an import statement, you can bring that code in to your Python environment and then use it for your own purposes. Some of these libraries are so good they gain widespread adoption. While you technically don't need to ever import a library to code in Python, but they can be incredibly helpful.\n",
    "\n",
    "Just as an example, one library that is commonly used in data analysis is called `pandas`. Pandas is used for creating and editing tables (think Microsoft Excel) but with incredible scale and speed.\n",
    "\n",
    "Another example is `NumPy`. NumPy is useful for complex mathematical notations.\n",
    "\n",
    "There are thousands of libraries out there. Over time you learn which libraries are useful for you."
   ]
  },
  {
   "cell_type": "markdown",
   "metadata": {},
   "source": [
    "## Wrapping up\n",
    "\n",
    "This introduction only scratches the surface of what you can do with Python. There are many ways to work with the code that were not covered. If you get lost, resources like [**https://RealPython.com/**](https://realpython.com/) and crowd-sourced answers on [**Stack Overflow**](https://stackoverflow.com/questions/tagged/python) can often point you in the right direction. If you start googling how to do something in Python, you'll often see different approaches to solving a problem. Sometimes they are better, sometimes they are worse. The important part is that you can get the code to work for you! \n",
    "\n",
    "\n",
    "# Good luck on your journey!"
   ]
  }
 ],
 "metadata": {
  "kernelspec": {
   "display_name": "base",
   "language": "python",
   "name": "python3"
  },
  "language_info": {
   "codemirror_mode": {
    "name": "ipython",
    "version": 3
   },
   "file_extension": ".py",
   "mimetype": "text/x-python",
   "name": "python",
   "nbconvert_exporter": "python",
   "pygments_lexer": "ipython3",
   "version": "3.11.9"
  }
 },
 "nbformat": 4,
 "nbformat_minor": 4
}
